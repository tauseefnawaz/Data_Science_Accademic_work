{
 "cells": [
  {
   "cell_type": "code",
   "execution_count": 1,
   "metadata": {},
   "outputs": [],
   "source": [
    "import matplotlib.pyplot as plt\n",
    "from matplotlib import style\n",
    "style.use('ggplot')\n",
    "import numpy as np\n",
    "from sklearn.datasets.samples_generator import make_blobs\n",
    "from sklearn.cluster import MeanShift\n",
    "import math"
   ]
  },
  {
   "cell_type": "code",
   "execution_count": 2,
   "metadata": {},
   "outputs": [],
   "source": [
    "def Euclidian_Distance(Observe,Actual):\n",
    "        distance=0\n",
    "        for x in range(len(Observe)):\n",
    "            distance += pow((Observe[x] - Actual[x]), 2)\n",
    "        return math.sqrt(distance)"
   ]
  },
  {
   "cell_type": "code",
   "execution_count": 3,
   "metadata": {},
   "outputs": [],
   "source": [
    "class Mean_Shift:\n",
    "    # Constructor \n",
    "    def __init__(self, radius=3): # Default Radius is 3 (You can tune it accordingly)\n",
    "        self.radius = radius\n",
    "        self.centroids = {}\n",
    "        \n",
    "    # Create Clusters   \n",
    "    def fit(self, data):\n",
    "        centroids = {}\n",
    "        for x in range(0,1000):\n",
    "            updated_centroids = []\n",
    "            for i in data:\n",
    "                bandwidth = []\n",
    "                for d in data:\n",
    "                    if (Euclidian_Distance(i,d) < self.radius):\n",
    "                        bandwidth.append(d)\n",
    "\n",
    "                centroid = np.mean(bandwidth,axis=0)\n",
    "                updated_centroids.append(tuple(centroid))\n",
    "\n",
    "            new = sorted(list(set(updated_centroids)))\n",
    "            prev_centroids = dict(centroids)\n",
    "\n",
    "            centroids = {}\n",
    "            for i in range(len(new)):\n",
    "                centroids[i] = np.array(new[i])\n",
    "        # Your Code Here\n",
    "        self.centroids = centroids"
   ]
  },
  {
   "cell_type": "code",
   "execution_count": 2,
   "metadata": {},
   "outputs": [],
   "source": [
    "# Creating Data Set of clusters\n",
    "X, _ = make_blobs(n_samples = 200, cluster_std =1.5)"
   ]
  },
  {
   "cell_type": "code",
   "execution_count": 10,
   "metadata": {},
   "outputs": [
    {
     "data": {
      "image/png": "[encoded data removed]",
      "text/plain": [
       "<Figure size 432x288 with 1 Axes>"
      ]
     },
     "metadata": {
      "needs_background": "light"
     },
     "output_type": "display_data"
    }
   ],
   "source": [
    "# Creating Object of Class\n",
    "clf = MeanShift()\n",
    "clf.fit(X)\n",
    "\n",
    "# Getting Optimized Centroids\n",
    "\n",
    "centroids = clf.cluster_centers_\n",
    "\n",
    "# Simple Scatter plot of 2D Data X\n",
    "plt.scatter(X[:,0], X[:,1],s=100)\n",
    "\n",
    "# Plot Cluster centroids as '*'\n",
    "for c in centroids:\n",
    "    plt.scatter(c[0], c[1], color='k', marker='*', s=150)\n",
    "\n",
    "plt.show()"
   ]
  },
  {
   "cell_type": "code",
   "execution_count": null,
   "metadata": {},
   "outputs": [],
   "source": []
  }
 ],
 "metadata": {
  "kernelspec": {
   "display_name": "Python 3",
   "language": "python",
   "name": "python3"
  },
  "language_info": {
   "codemirror_mode": {
    "name": "ipython",
    "version": 3
   },
   "file_extension": ".py",
   "mimetype": "text/x-python",
   "name": "python",
   "nbconvert_exporter": "python",
   "pygments_lexer": "ipython3",
   "version": "3.7.3"
  }
 },
 "nbformat": 4,
 "nbformat_minor": 1
}
