{
  "nbformat": 4,
  "nbformat_minor": 0,
  "metadata": {
    "colab": {
      "name": "i170149_A_Lab10.ipynb",
      "provenance": [],
      "collapsed_sections": []
    },
    "kernelspec": {
      "name": "python3",
      "display_name": "Python 3"
    },
    "accelerator": "GPU"
  },
  "cells": [
    {
      "cell_type": "code",
      "metadata": {
        "id": "2gXKf-RAFyrk"
      },
      "source": [
        "import numpy as np\n",
        "class PCA:\n",
        "\n",
        "    def __init__(self, n_components):\n",
        "        self.n_components = n_components\n",
        "        self.components = None\n",
        "        self.mean = None\n",
        "\n",
        "    def fit(self, X):\n",
        "        self.mean = np.mean(X, axis=0)\n",
        "        X = X - self.mean\n",
        "        cov = np.cov(X.T)\n",
        "        eigenvalues, eigenvectors = np.linalg.eig(cov)\n",
        "        eigenvectors = eigenvectors.T\n",
        "        idxs = np.argsort(eigenvalues)[::-1]\n",
        "        eigenvalues = eigenvalues[idxs]\n",
        "        eigenvectors = eigenvectors[idxs]\n",
        "        self.components = eigenvectors[0:self.n_components]\n",
        "\n",
        "    def transform(self, X):\n",
        "        X = X - self.mean\n",
        "        return np.dot(X, self.components.T)"
      ],
      "execution_count": null,
      "outputs": []
    },
    {
      "cell_type": "code",
      "metadata": {
        "id": "ffs97ZjrEVGl"
      },
      "source": [
        "from sklearn import datasets\n",
        "import matplotlib.pyplot as plt\n",
        "import numpy as np\n",
        "\n",
        "data = datasets.load_iris()\n",
        "X = data.data\n",
        "y = data.target"
      ],
      "execution_count": null,
      "outputs": []
    },
    {
      "cell_type": "code",
      "metadata": {
        "id": "JtdMS3t7XAPx"
      },
      "source": [
        "from sklearn.preprocessing import StandardScaler\n",
        "scaler = StandardScaler().fit(X)\n",
        "X = scaler.transform(X)"
      ],
      "execution_count": null,
      "outputs": []
    },
    {
      "cell_type": "code",
      "metadata": {
        "id": "gAX3DF-wWtj-",
        "colab": {
          "base_uri": "https://localhost:8080/",
          "height": 52
        },
        "outputId": "b0f93bad-02b0-477d-cdba-19fd5a00ffd8"
      },
      "source": [
        "pca = PCA(1)\n",
        "pca.fit(X)\n",
        "X_projected = pca.transform(X)\n",
        "\n",
        "print('Shape of X:', X.shape)\n",
        "print('Shape of transformed X:', X_projected.shape)"
      ],
      "execution_count": null,
      "outputs": [
        {
          "output_type": "stream",
          "text": [
            "Shape of X: (150, 4)\n",
            "Shape of transformed X: (150, 1)\n"
          ],
          "name": "stdout"
        }
      ]
    },
    {
      "cell_type": "code",
      "metadata": {
        "id": "4ZS53fb5Es-0",
        "colab": {
          "base_uri": "https://localhost:8080/",
          "height": 283
        },
        "outputId": "59d701b5-a6e8-43d6-a998-0c133c018f8a"
      },
      "source": [
        "x1 = X_projected\n",
        "x2 = np.zeros(shape = x1.shape[0])\n",
        "plt.scatter(x1, x2,c=y, edgecolor='none', alpha=0.8,\n",
        "            cmap=plt.cm.get_cmap('viridis', 3))\n",
        "\n",
        "plt.xlabel('X-PCA')\n",
        "plt.ylabel('Y-PCA')\n",
        "plt.colorbar()\n",
        "plt.show()"
      ],
      "execution_count": null,
      "outputs": [
        {
          "output_type": "display_data",
          "data": {
            "image/png": "[encoded data removed]",
            "text/plain": [
              "<Figure size 432x288 with 2 Axes>"
            ]
          },
          "metadata": {
            "tags": [],
            "needs_background": "light"
          }
        }
      ]
    },
    {
      "cell_type": "code",
      "metadata": {
        "id": "ab8rC1mqXWS2"
      },
      "source": [
        "import numpy as np\n",
        "import scipy\n",
        "import math\n",
        "class KNearestNeighbor:\n",
        "    ''' Implements the KNearest Neigbours For Classification... '''\n",
        "    def __init__(self, k, scalefeatures=False):        \n",
        "        self.k=k\n",
        "        pass        \n",
        "    \n",
        "    def Euclidian_Distance(self,Observe,Actual):\n",
        "        distance=0\n",
        "        for x in range(len(Observe)):\n",
        "            distance += pow((Observe[x] - Actual[x]), 2)\n",
        "        return math.sqrt(distance)\n",
        "    def compute_distances_one_loop(self, X):\n",
        "        dists=[]\n",
        "        for i in self.X_train:\n",
        "            dists.append(self.Euclidian_Distance(X,i))\n",
        "        return dists\n",
        "    def compute_distances_no_loop(self, X):\n",
        "        return scipy.spatial.distance.cdist(X,self.X_train,'euclidean')   \n",
        "    \n",
        "    def train(self, X, Y):\n",
        "        self.X_train = X\n",
        "        self.Y_train = Y\n",
        "\n",
        "    def predict(self, X, methodtype='oneloop'):\n",
        "        \n",
        "      pclass=[]\n",
        "\n",
        "        #defining a function variable so that you will only need to call compute_distance...        \n",
        "      compute_distance = self.compute_distances_no_loop(X)\n",
        "      for i in range(0,compute_distance.shape[0]):\n",
        "        index = np.argsort(compute_distance[i])\n",
        "        #print index\n",
        "        bestvalues = index[:self.k]\n",
        "        #print np.flip(bestvalues)\n",
        "        l1 = []\n",
        "        for k in range(0, len(bestvalues)):\n",
        "            l1.append(self.Y_train[bestvalues[k]])\n",
        "        \n",
        "        labels,counts = np.unique(l1,return_counts = True)\n",
        "        pclass.append(labels[np.argmax(counts)]) \n",
        "      return pclass"
      ],
      "execution_count": null,
      "outputs": []
    },
    {
      "cell_type": "code",
      "metadata": {
        "id": "gNS_FNq4bpVy",
        "colab": {
          "base_uri": "https://localhost:8080/",
          "height": 34
        },
        "outputId": "f5daf3af-4d80-4a67-d872-c5d68e66a4f4"
      },
      "source": [
        "from sklearn.model_selection import train_test_split\n",
        "Xtrain,Xtest,Ytrain,Ytest = train_test_split(X_projected,y,test_size = 0.3,random_state=0)\n",
        "Classifier = KNearestNeighbor(3)\n",
        "Classifier.train(Xtrain,Ytrain)\n",
        "y_pred = Classifier.predict(Xtest)\n",
        "print(np.sum(Ytest==y_pred)/len(Ytest))\n"
      ],
      "execution_count": null,
      "outputs": [
        {
          "output_type": "stream",
          "text": [
            "0.9333333333333333\n"
          ],
          "name": "stdout"
        }
      ]
    },
    {
      "cell_type": "code",
      "metadata": {
        "id": "EhJhJKKxb1xX"
      },
      "source": [
        ""
      ],
      "execution_count": null,
      "outputs": []
    }
  ]
}